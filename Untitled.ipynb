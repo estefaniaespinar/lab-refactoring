{
 "cells": [
  {
   "cell_type": "code",
   "execution_count": null,
   "metadata": {},
   "outputs": [
    {
     "name": "stdout",
     "output_type": "stream",
     "text": [
      "Let's start. Guess the number to win a special prize!.\n",
      "The machine already chose.\n",
      "You have 3 attempts! Good luck\n",
      "Please, type a number from 1 to 15: sdfgh\n",
      "The number must be an integer from 1 to 15. Please, try again.7\n",
      "7\n",
      "The number is lower than the one the machine chose.\n",
      "You have 2 left.\n"
     ]
    }
   ],
   "source": [
    "import random\n",
    "import Functions as f\n",
    "\n",
    "# Main variables :\n",
    "\n",
    "intentos = 2\n",
    "n_num = \"Please, type a number from 1 to 15: \"\n",
    "w_num = \"The number must be an integer from 1 to 15. Please, try again.\"\n",
    "machine_n = int(random.randrange(1, 16))\n",
    "\n",
    "# START\n",
    "\n",
    "# Initial message:\n",
    "print(f\"Let's start. Guess the number to win a special prize!.\")\n",
    "print(\"The machine already chose.\")\n",
    "\n",
    "# Number of attemps that the user have to guess the number:\n",
    "print(f\"You have {intentos + 1} attempts! Good luck\")\n",
    "\n",
    "# We call the function :\n",
    "winner = f.play(intentos, machine_n)\n",
    "\n",
    "# Finally, print the final result.\n",
    "f.final(winner, machine_n)"
   ]
  },
  {
   "cell_type": "code",
   "execution_count": null,
   "metadata": {
    "collapsed": true
   },
   "outputs": [],
   "source": []
  }
 ],
 "metadata": {
  "kernelspec": {
   "display_name": "Python 3",
   "language": "python",
   "name": "python3"
  }
 },
 "nbformat": 4,
 "nbformat_minor": 2
}
